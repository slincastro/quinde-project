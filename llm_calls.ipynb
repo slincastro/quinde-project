{
 "cells": [
  {
   "cell_type": "code",
   "execution_count": 1,
   "metadata": {},
   "outputs": [
    {
     "name": "stdout",
     "output_type": "stream",
     "text": [
      "Collecting openai\n",
      "  Downloading openai-1.66.3-py3-none-any.whl.metadata (25 kB)\n",
      "Collecting anyio<5,>=3.5.0 (from openai)\n",
      "  Downloading anyio-4.9.0-py3-none-any.whl.metadata (4.7 kB)\n",
      "Collecting distro<2,>=1.7.0 (from openai)\n",
      "  Downloading distro-1.9.0-py3-none-any.whl.metadata (6.8 kB)\n",
      "Collecting httpx<1,>=0.23.0 (from openai)\n",
      "  Using cached httpx-0.28.1-py3-none-any.whl.metadata (7.1 kB)\n",
      "Collecting jiter<1,>=0.4.0 (from openai)\n",
      "  Downloading jiter-0.9.0-cp311-cp311-macosx_11_0_arm64.whl.metadata (5.2 kB)\n",
      "Requirement already satisfied: pydantic<3,>=1.9.0 in /Users/slincastro/.pyenv/versions/3.11.7/lib/python3.11/site-packages (from openai) (2.10.6)\n",
      "Collecting sniffio (from openai)\n",
      "  Using cached sniffio-1.3.1-py3-none-any.whl.metadata (3.9 kB)\n",
      "Requirement already satisfied: tqdm>4 in /Users/slincastro/.pyenv/versions/3.11.7/lib/python3.11/site-packages (from openai) (4.67.1)\n",
      "Requirement already satisfied: typing-extensions<5,>=4.11 in /Users/slincastro/.pyenv/versions/3.11.7/lib/python3.11/site-packages (from openai) (4.12.2)\n",
      "Requirement already satisfied: idna>=2.8 in /Users/slincastro/.pyenv/versions/3.11.7/lib/python3.11/site-packages (from anyio<5,>=3.5.0->openai) (3.10)\n",
      "Requirement already satisfied: certifi in /Users/slincastro/.pyenv/versions/3.11.7/lib/python3.11/site-packages (from httpx<1,>=0.23.0->openai) (2025.1.31)\n",
      "Collecting httpcore==1.* (from httpx<1,>=0.23.0->openai)\n",
      "  Using cached httpcore-1.0.7-py3-none-any.whl.metadata (21 kB)\n",
      "Collecting h11<0.15,>=0.13 (from httpcore==1.*->httpx<1,>=0.23.0->openai)\n",
      "  Using cached h11-0.14.0-py3-none-any.whl.metadata (8.2 kB)\n",
      "Requirement already satisfied: annotated-types>=0.6.0 in /Users/slincastro/.pyenv/versions/3.11.7/lib/python3.11/site-packages (from pydantic<3,>=1.9.0->openai) (0.7.0)\n",
      "Requirement already satisfied: pydantic-core==2.27.2 in /Users/slincastro/.pyenv/versions/3.11.7/lib/python3.11/site-packages (from pydantic<3,>=1.9.0->openai) (2.27.2)\n",
      "Downloading openai-1.66.3-py3-none-any.whl (567 kB)\n",
      "\u001b[2K   \u001b[90m━━━━━━━━━━━━━━━━━━━━━━━━━━━━━━━━━━━━━━━\u001b[0m \u001b[32m567.4/567.4 kB\u001b[0m \u001b[31m896.0 kB/s\u001b[0m eta \u001b[36m0:00:00\u001b[0m:--:--\u001b[0m\n",
      "\u001b[?25hDownloading anyio-4.9.0-py3-none-any.whl (100 kB)\n",
      "Downloading distro-1.9.0-py3-none-any.whl (20 kB)\n",
      "Using cached httpx-0.28.1-py3-none-any.whl (73 kB)\n",
      "Using cached httpcore-1.0.7-py3-none-any.whl (78 kB)\n",
      "Downloading jiter-0.9.0-cp311-cp311-macosx_11_0_arm64.whl (320 kB)\n",
      "Using cached sniffio-1.3.1-py3-none-any.whl (10 kB)\n",
      "Using cached h11-0.14.0-py3-none-any.whl (58 kB)\n",
      "Installing collected packages: sniffio, jiter, h11, distro, httpcore, anyio, httpx, openai\n",
      "Successfully installed anyio-4.9.0 distro-1.9.0 h11-0.14.0 httpcore-1.0.7 httpx-0.28.1 jiter-0.9.0 openai-1.66.3 sniffio-1.3.1\n"
     ]
    }
   ],
   "source": [
    "# Installing Dependencies\n",
    "!pip install openai"
   ]
  },
  {
   "cell_type": "code",
   "execution_count": 12,
   "metadata": {},
   "outputs": [],
   "source": [
    "#Reading from config.json\n",
    "import json\n",
    "\n",
    "api_key = None\n",
    "with open('config.json') as f:\n",
    "    data = json.load(f)\n",
    "    api_key = data['openai']['api_key']\n"
   ]
  },
  {
   "cell_type": "code",
   "execution_count": 6,
   "metadata": {},
   "outputs": [
    {
     "name": "stdout",
     "output_type": "stream",
     "text": [
      "gpt-4o-mini-audio-preview-2024-12-17\n",
      "dall-e-3\n",
      "dall-e-2\n",
      "gpt-4o-audio-preview-2024-10-01\n",
      "gpt-4o-audio-preview\n",
      "o1-mini-2024-09-12\n",
      "o1-mini\n",
      "omni-moderation-latest\n",
      "gpt-4o-mini-audio-preview\n",
      "omni-moderation-2024-09-26\n",
      "gpt-4o-mini-2024-07-18\n",
      "gpt-4o-mini\n",
      "babbage-002\n",
      "tts-1-hd-1106\n",
      "whisper-1\n",
      "text-embedding-3-large\n",
      "gpt-4o-2024-05-13\n",
      "tts-1-hd\n",
      "o1-preview\n",
      "o1-preview-2024-09-12\n",
      "gpt-3.5-turbo-instruct-0914\n",
      "gpt-4o-mini-search-preview\n",
      "tts-1-1106\n",
      "davinci-002\n",
      "gpt-3.5-turbo-1106\n",
      "gpt-4o-search-preview\n",
      "gpt-3.5-turbo-instruct\n",
      "gpt-4o-mini-search-preview-2025-03-11\n",
      "gpt-4o-2024-11-20\n",
      "gpt-3.5-turbo-0125\n",
      "gpt-4o-2024-08-06\n",
      "gpt-3.5-turbo\n",
      "gpt-3.5-turbo-16k\n",
      "gpt-4o\n",
      "text-embedding-3-small\n",
      "text-embedding-ada-002\n",
      "gpt-4.5-preview\n",
      "gpt-4.5-preview-2025-02-27\n",
      "gpt-4o-search-preview-2025-03-11\n",
      "tts-1\n"
     ]
    }
   ],
   "source": [
    "import openai\n",
    "import os\n",
    "client = openai.OpenAI(api_key=api_key)\n",
    "\n",
    "models = client.models.list()\n",
    "for model in models:\n",
    "    print(model.id)"
   ]
  },
  {
   "cell_type": "code",
   "execution_count": 17,
   "metadata": {},
   "outputs": [
    {
     "name": "stdout",
     "output_type": "stream",
     "text": [
      "ChatCompletion(id='chatcmpl-BCbIbH2tMCkT273d04sDC11nT2maf', choices=[Choice(finish_reason='stop', index=0, logprobs=None, message=ChatCompletionMessage(content='Artificial Intelligence (AI) refers to the simulation of human intelligence processes by machines, particularly computer systems. These processes include learning (the acquisition of information and rules for using it), reasoning (using these rules to reach approximate or definite conclusions), and self-correction. Some of the key subfields of AI include:\\n\\n1. **Machine Learning:** A method of data analysis that automates analytical model building, allowing computers to learn from and make predictions or decisions based on data.\\n\\n2. **Natural Language Processing (NLP):** The ability of an AI to understand and interact using human language, enabling applications like chatbots and language translation.\\n\\n3. **Robotics:** The design and creation of robots that can perform tasks autonomously or semi-autonomously.\\n\\n4. **Vision:** Also known as computer vision, this enables machines to interpret and make decisions based on visual data from the world.\\n\\n5. **Expert Systems:** These are AI systems designed to solve complex problems by reasoning through bodies of knowledge, represented mainly as if-then rules.\\n\\nAI can be categorized into two types:\\n\\n- **Narrow AI (Weak AI):** This type of AI is designed and trained for a specific task such as voice recognition or image processing.\\n\\n- **General AI (Strong AI):** This is a form of AI with the ability to understand, learn, and apply intelligence flexibly across a wide range of tasks, much like a human. However, achieving strong AI is still largely a theoretical endeavor and remains a future goal within the field.\\n\\nAI has applications in various sectors, including healthcare, finance, autonomous vehicles, customer service, and more, contributing to efficiency, innovation, and new capabilities across industries.', refusal=None, role='assistant', annotations=[], audio=None, function_call=None, tool_calls=None))], created=1742343013, model='gpt-4o-2024-08-06', object='chat.completion', service_tier='default', system_fingerprint='fp_6ec83003ad', usage=CompletionUsage(completion_tokens=340, prompt_tokens=11, total_tokens=351, completion_tokens_details=CompletionTokensDetails(accepted_prediction_tokens=0, audio_tokens=0, reasoning_tokens=0, rejected_prediction_tokens=0), prompt_tokens_details=PromptTokensDetails(audio_tokens=0, cached_tokens=0)))\n"
     ]
    }
   ],
   "source": [
    "response = client.chat.completions.create(\n",
    "    model=\"gpt-4o\",\n",
    "    messages=[\n",
    "        {\"role\": \"user\", \"content\": \"What is AI?\"}\n",
    "    ]\n",
    ")\n",
    "\n",
    "# Print response\n",
    "print(response)\n",
    "#print(response.choices[0].message.content)"
   ]
  }
 ],
 "metadata": {
  "kernelspec": {
   "display_name": "3.11.7",
   "language": "python",
   "name": "python3"
  },
  "language_info": {
   "codemirror_mode": {
    "name": "ipython",
    "version": 3
   },
   "file_extension": ".py",
   "mimetype": "text/x-python",
   "name": "python",
   "nbconvert_exporter": "python",
   "pygments_lexer": "ipython3",
   "version": "3.11.7"
  }
 },
 "nbformat": 4,
 "nbformat_minor": 2
}
