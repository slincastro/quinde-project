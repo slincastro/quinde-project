{
 "cells": [
  {
   "cell_type": "code",
   "execution_count": null,
   "metadata": {},
   "outputs": [],
   "source": [
    "! pip install llama_index"
   ]
  },
  {
   "cell_type": "code",
   "execution_count": 4,
   "metadata": {},
   "outputs": [],
   "source": [
    "import json\n",
    "\n",
    "api_key = None\n",
    "with open('config.json') as f:\n",
    "    data = json.load(f)\n",
    "    api_key = data['openai']['api_key']"
   ]
  },
  {
   "cell_type": "code",
   "execution_count": 5,
   "metadata": {},
   "outputs": [],
   "source": [
    "from llama_index.llms.openai import OpenAI\n",
    "\n",
    "llm = OpenAI(\n",
    "    model = \"gpt-4o-mini\",\n",
    "    api_key = api_key\n",
    ")"
   ]
  },
  {
   "cell_type": "code",
   "execution_count": 6,
   "metadata": {},
   "outputs": [
    {
     "name": "stdout",
     "output_type": "stream",
     "text": [
      "Paul Graham is an influential computer scientist, entrepreneur, and venture capitalist, best known for his work in the field of programming languages and for co-founding the startup accelerator Y Combinator. He is also recognized for his essays on technology, startups, and entrepreneurship, which have garnered a significant following. Graham co-authored the programming language Lisp and has been involved in various startups, including Viaweb, which was one of the first web-based applications and was acquired by Yahoo! in 1998. His insights on startups and innovation have made him a prominent figure in the tech community.\n"
     ]
    }
   ],
   "source": [
    "resp = llm.complete(\"Paul Graham is \")\n",
    "print(resp)"
   ]
  },
  {
   "cell_type": "code",
   "execution_count": 14,
   "metadata": {},
   "outputs": [
    {
     "name": "stdout",
     "output_type": "stream",
     "text": [
      "assistant: The provided code has a high cyclomatic complexity due to the nested `if` statements, which makes it difficult to read and maintain. To improve this, we can simplify the logic and reduce the cyclomatic complexity by using a more straightforward approach. \n",
      "\n",
      "Here’s a refactored version of the code that achieves the same goal but is easier to understand and maintain:\n",
      "\n",
      "```python\n",
      "motorcycles = [\n",
      "    {\"model\": \"Harley Davidson\", \"price\": 10000, \"year\": 2010},\n",
      "    {\"model\": \"Honda\", \"price\": 5000, \"year\": 2015},\n",
      "    {\"model\": \"Yamaha\", \"price\": 7000, \"year\": 2012},\n",
      "    {\"model\": \"Suzuki\", \"price\": 8000, \"year\": 2013},\n",
      "    {\"model\": \"Kawasaki\", \"price\": 9000, \"year\": 2014}\n",
      "]\n",
      "\n",
      "def best_option(motorcycles):\n",
      "    # Define criteria for the best motorcycle\n",
      "    criteria = {\n",
      "        \"model\": \"Harley Davidson\",\n",
      "        \"price\": 10000,\n",
      "        \"year\": 2010\n",
      "    }\n",
      "    \n",
      "    # Filter motorcycles based on criteria\n",
      "    for motorcycle in motorcycles:\n",
      "        if (motorcycle[\"model\"] == criteria[\"model\"] and\n",
      "            motorcycle[\"price\"] == criteria[\"price\"] and\n",
      "            motorcycle[\"year\"] == criteria[\"year\"]):\n",
      "            return motorcycle\n",
      "    \n",
      "    return None  # Return None if no motorcycle matches the criteria\n",
      "\n",
      "best_motorcycle = best_option(motorcycles)\n",
      "if best_motorcycle:\n",
      "    print(best_motorcycle)\n",
      "else:\n",
      "    print(\"No suitable motorcycle found.\")\n",
      "```\n",
      "\n",
      "### Key Improvements:\n",
      "1. **Reduced Nesting**: The nested `if` statements have been replaced with a single conditional statement that checks all criteria at once.\n",
      "2. **Clear Criteria**: The criteria for the best motorcycle are defined in a dictionary, making it easy to modify if needed.\n",
      "3. **Return Value**: The function now returns `None` if no motorcycle matches the criteria, which is a more Pythonic way to handle the absence of a result.\n",
      "4. **Readability**: The code is more readable and maintainable, making it easier for others (or yourself in the future) to understand the logic.\n",
      "\n",
      "This approach significantly reduces cyclomatic complexity and enhances the overall quality of the code.\n"
     ]
    }
   ],
   "source": [
    "from llama_index.core.llms import ChatMessage\n",
    "\n",
    "program_name= \"program1\"\n",
    "code = \"\"\n",
    "with open(f'./code_files/{program_name}.py') as f:\n",
    "    lines = f.readlines()\n",
    "\n",
    "code = \"\".join(lines)\n",
    "\n",
    "messages = [\n",
    "    ChatMessage(\n",
    "        role=\"system\", content=\"You are a expert software developer in python and you are providing a better option to write the code based explicitly in cyclomatic complexity.\"\n",
    "    ),\n",
    "    ChatMessage(role=\"user\", content=code),\n",
    "]\n",
    "resp = llm.chat(messages)\n",
    "\n",
    "print(resp)\n",
    "\n",
    "refactored_code = resp.message.content if hasattr(resp, \"message\") else str(resp)\n",
    "\n",
    "#create a new file just with the code \n",
    "with open(f'./code_files/{program_name}_refactored.py', 'w') as f:\n",
    "    f.write(refactored_code)"
   ]
  }
 ],
 "metadata": {
  "kernelspec": {
   "display_name": "3.11.7",
   "language": "python",
   "name": "python3"
  },
  "language_info": {
   "codemirror_mode": {
    "name": "ipython",
    "version": 3
   },
   "file_extension": ".py",
   "mimetype": "text/x-python",
   "name": "python",
   "nbconvert_exporter": "python",
   "pygments_lexer": "ipython3",
   "version": "3.11.7"
  }
 },
 "nbformat": 4,
 "nbformat_minor": 2
}
